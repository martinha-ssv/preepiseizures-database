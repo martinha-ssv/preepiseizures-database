{
 "cells": [
  {
   "cell_type": "code",
   "execution_count": 2,
   "metadata": {},
   "outputs": [],
   "source": [
    "from pymongo import MongoClient\n",
    "from pprint import pprint\n",
    "from termcolor import colored"
   ]
  },
  {
   "cell_type": "markdown",
   "metadata": {},
   "source": [
    "# Connecting to MongoDB client\n",
    "Since my MongoDB test is locally hosted (```address=\"mongodb://localhost:27017/\"```), no other configuration is needed."
   ]
  },
  {
   "cell_type": "code",
   "execution_count": 3,
   "metadata": {},
   "outputs": [
    {
     "name": "stdout",
     "output_type": "stream",
     "text": [
      "['admin', 'config', 'local', 'test-epilepsy-data']\n"
     ]
    }
   ],
   "source": [
    "client = MongoClient()\n",
    "# Show databases in server\n",
    "print(client.list_database_names())"
   ]
  },
  {
   "cell_type": "markdown",
   "metadata": {},
   "source": [
    "To access MongoDB on a remote server, a snippet like this would be needed:\n",
    "\n",
    "```python\n",
    "hostname = 'your_host_name'\n",
    "port = 00000\n",
    "username = 'your_username'  # If authentication is required\n",
    "password = 'your_password'  # If authentication is required\n",
    "\n",
    "client = MongoClient(hostname, port, username=username, password=password)\n",
    "```\n",
    "[Source](https://levelup.gitconnected.com/how-to-connect-python-with-mongodb-350ebcc94efd)"
   ]
  },
  {
   "cell_type": "markdown",
   "metadata": {},
   "source": [
    "# Accessing a database"
   ]
  },
  {
   "cell_type": "code",
   "execution_count": 4,
   "metadata": {},
   "outputs": [
    {
     "name": "stdout",
     "output_type": "stream",
     "text": [
      "['events', 'patients', 'sessions', 'records']\n"
     ]
    }
   ],
   "source": [
    "db = client['test-epilepsy-data']\n",
    "# Show collections in database\n",
    "print(db.list_collection_names())"
   ]
  },
  {
   "cell_type": "markdown",
   "metadata": {},
   "source": [
    "# Accessing a collection"
   ]
  },
  {
   "cell_type": "code",
   "execution_count": 5,
   "metadata": {},
   "outputs": [
    {
     "name": "stdout",
     "output_type": "stream",
     "text": [
      "\n",
      "\n",
      "\n",
      "{'_id': ObjectId('65ece7038dbc939d73411200'),\n",
      " 'aura': False,\n",
      " 'diagnosis': {'region': [{'lobe': 'temporal', 'side': 'right'},\n",
      "                          {'lobe': 'temporal', 'side': 'left'}],\n",
      "               'type': 'focal'},\n",
      " 'medication': {'dose_mg': 1000, 'freq_day': 2, 'name': 'LEV'},\n",
      " 'sessions': []}\n",
      "\n",
      "\n",
      "\n",
      "{'_id': ObjectId('65ece8ce8dbc939d73411201'),\n",
      " 'aura': False,\n",
      " 'commorbidities': 'alcoholism',\n",
      " 'diagnosis': {'region': {'lobe': 'occipital', 'side': 'left'},\n",
      "               'type': 'focal refractory'},\n",
      " 'medication': [{'dose_mg': 1600, 'name': 'ZBN'},\n",
      "                {'dose_mg': 1000, 'freq_day': 2, 'name': 'Diplexil'}]}\n"
     ]
    }
   ],
   "source": [
    "patients = db['patients']\n",
    "# Show documents in collection\n",
    "for x in patients.find(): \n",
    "    print('\\n\\n')\n",
    "    pprint(x)"
   ]
  },
  {
   "cell_type": "markdown",
   "metadata": {},
   "source": [
    "# Querying database"
   ]
  },
  {
   "cell_type": "code",
   "execution_count": 10,
   "metadata": {},
   "outputs": [
    {
     "name": "stdout",
     "output_type": "stream",
     "text": [
      "{'_id': ObjectId('65ece7038dbc939d73411200'),\n",
      " 'aura': False,\n",
      " 'diagnosis': {'region': [{'lobe': 'temporal', 'side': 'right'},\n",
      "                          {'lobe': 'temporal', 'side': 'left'}],\n",
      "               'type': 'focal'},\n",
      " 'medication': {'dose_mg': 1000, 'freq_day': 2, 'name': 'LEV'},\n",
      " 'sessions': []}\n",
      "{'_id': ObjectId('65ece8ce8dbc939d73411201'),\n",
      " 'aura': False,\n",
      " 'commorbidities': 'alcoholism',\n",
      " 'diagnosis': {'region': {'lobe': 'occipital', 'side': 'left'},\n",
      "               'type': 'focal refractory'},\n",
      " 'medication': [{'dose_mg': 1600, 'name': 'ZBN'},\n",
      "                {'dose_mg': 1000, 'freq_day': 2, 'name': 'Diplexil'}]}\n"
     ]
    }
   ],
   "source": [
    "for x in patients.find():\n",
    "    pprint(x)"
   ]
  },
  {
   "cell_type": "code",
   "execution_count": 7,
   "metadata": {},
   "outputs": [
    {
     "name": "stdout",
     "output_type": "stream",
     "text": [
      "\u001b[1m\u001b[92mPatients with alcoholism:\u001b[0m\n",
      "{'_id': ObjectId('65ece8ce8dbc939d73411201'),\n",
      " 'aura': False,\n",
      " 'commorbidities': 'alcoholism',\n",
      " 'diagnosis': {'region': {'lobe': 'occipital', 'side': 'left'},\n",
      "               'type': 'focal refractory'},\n",
      " 'medication': [{'dose_mg': 1600, 'name': 'ZBN'},\n",
      "                {'dose_mg': 1000, 'freq_day': 2, 'name': 'Diplexil'}]}\n",
      "\n",
      "\n",
      "\n",
      "\u001b[1m\u001b[35mPatients with ictal phenomena in the left brain:\u001b[0m\n",
      "{'_id': ObjectId('65ece7038dbc939d73411200'),\n",
      " 'aura': False,\n",
      " 'diagnosis': {'region': [{'lobe': 'temporal', 'side': 'right'},\n",
      "                          {'lobe': 'temporal', 'side': 'left'}],\n",
      "               'type': 'focal'},\n",
      " 'medication': {'dose_mg': 1000, 'freq_day': 2, 'name': 'LEV'},\n",
      " 'sessions': []}\n",
      "{'_id': ObjectId('65ece8ce8dbc939d73411201'),\n",
      " 'aura': False,\n",
      " 'commorbidities': 'alcoholism',\n",
      " 'diagnosis': {'region': {'lobe': 'occipital', 'side': 'left'},\n",
      "               'type': 'focal refractory'},\n",
      " 'medication': [{'dose_mg': 1600, 'name': 'ZBN'},\n",
      "                {'dose_mg': 1000, 'freq_day': 2, 'name': 'Diplexil'}]}\n"
     ]
    }
   ],
   "source": [
    "# Retrieve all documents:\n",
    "patients.find()\n",
    "\n",
    "# Find items with a given value in a field:\n",
    "print(colored('Patients with alcoholism:', 'light_green', attrs=['bold']))\n",
    "for x in patients.find({'commorbidities':'alcoholism'}):\n",
    "    pprint(x)\n",
    "    \n",
    "print('\\n\\n')\n",
    "\n",
    "# Find items with a given value in a subfield:\n",
    "print(colored('Patients with ictal phenomena in the left brain:', 'magenta', attrs=['bold']))\n",
    "for x in patients.find({'diagnosis.region.side':'left'}):\n",
    "    pprint(x)\n"
   ]
  },
  {
   "cell_type": "markdown",
   "metadata": {},
   "source": [
    "# Editing database"
   ]
  },
  {
   "cell_type": "markdown",
   "metadata": {},
   "source": [
    "## Inserting items\n",
    "\n",
    "```python\n",
    "# Load json string:\n",
    "\n",
    "with open('data.json') as file:\n",
    "    json_string = json.load(file)\n",
    "\n",
    "patients.insert_one('json_string containing a single document') # Inserts a single document\n",
    "patients.insert_many('json_string containing multiple documents') # Inserts many documents\n",
    "```"
   ]
  },
  {
   "cell_type": "markdown",
   "metadata": {},
   "source": [
    "## Updating items\n",
    "\n",
    "```python\n",
    "patients.update_one({'field':'value'}, {<update operator>: { <field1>: <value1>, ... }})\n",
    "patients.update_many({'field':'value'}, {<update operator>: { <field1>: <value1>, ... }})\n",
    "```"
   ]
  },
  {
   "cell_type": "code",
   "execution_count": null,
   "metadata": {},
   "outputs": [],
   "source": []
  },
  {
   "cell_type": "markdown",
   "metadata": {},
   "source": []
  }
 ],
 "metadata": {
  "kernelspec": {
   "display_name": "Python 3",
   "language": "python",
   "name": "python3"
  },
  "language_info": {
   "codemirror_mode": {
    "name": "ipython",
    "version": 3
   },
   "file_extension": ".py",
   "mimetype": "text/x-python",
   "name": "python",
   "nbconvert_exporter": "python",
   "pygments_lexer": "ipython3",
   "version": "3.10.0"
  }
 },
 "nbformat": 4,
 "nbformat_minor": 2
}
