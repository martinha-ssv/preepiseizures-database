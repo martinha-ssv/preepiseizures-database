{
 "cells": [
  {
   "cell_type": "code",
   "execution_count": 4,
   "metadata": {},
   "outputs": [],
   "source": [
    "from pymongo import MongoClient\n",
    "from pprint import pprint\n",
    "from termcolor import colored\n",
    "import json\n",
    "from bson import BSON\n",
    "import functools as f"
   ]
  },
  {
   "cell_type": "code",
   "execution_count": 8,
   "metadata": {},
   "outputs": [],
   "source": [
    "username = 'admin'\n",
    "password = 'adminadmin'\n",
    "host = 'localhost'\n",
    "port = 27017\n",
    "auth_source = 'admin'\n",
    "\n",
    "uri = f\"mongodb://{username}:{password}@{host}:{port}/?authSource={auth_source}\""
   ]
  },
  {
   "cell_type": "code",
   "execution_count": 22,
   "metadata": {},
   "outputs": [],
   "source": [
    "client = MongoClient()\n"
   ]
  },
  {
   "cell_type": "code",
   "execution_count": 23,
   "metadata": {},
   "outputs": [],
   "source": [
    "client.list_database_names()\n",
    "db = client['epilepsy-data']"
   ]
  },
  {
   "cell_type": "code",
   "execution_count": 24,
   "metadata": {},
   "outputs": [
    {
     "name": "stdout",
     "output_type": "stream",
     "text": [
      "{'_id': ObjectId('666bf6ae39b9736541209513'),\n",
      " 'crisisType': 'FWIA',\n",
      " 'description': 'Verbose',\n",
      " 'eventID': 'YYYY',\n",
      " 'lobe': 'temporal',\n",
      " 'offset': '2018-01-10T06:16:30Z',\n",
      " 'onset': '2018-01-10T06:14:00Z',\n",
      " 'recordID': 'XXXX'}\n"
     ]
    }
   ],
   "source": [
    "for x in db['events'].find():\n",
    "    pprint(x)"
   ]
  },
  {
   "cell_type": "code",
   "execution_count": null,
   "metadata": {},
   "outputs": [],
   "source": [
    "''' \n",
    "collection: collection to query\n",
    "field: data field to be queried\n",
    "value: value of field to find\n",
    "fetch: which level to fetch (record, session, patient)'''\n",
    "def query_event_field(collection, field, value, fetch):\n",
    "    # For now, only finds stuff in events and fetches records.\n",
    "    data = db['events']\n",
    "    query_res = data.find({field:value})\n",
    "    query_records = [x['recordID'] for x in query_res]\n",
    "    query_records = [db['records'].find({'recordID':recordID}) for recordID in query_records]\n",
    "    pprint(query_records)\n",
    "\n",
    "    if fetch=='record':\n",
    "        return query_records\n",
    "    "
   ]
  },
  {
   "cell_type": "code",
   "execution_count": null,
   "metadata": {},
   "outputs": [
    {
     "name": "stdout",
     "output_type": "stream",
     "text": [
      "[<pymongo.cursor.Cursor object at 0x112667220>]\n",
      "[{'_id': ObjectId('666bf78539b9736541209522'),\n",
      "  'duration_s': 2000,\n",
      "  'events': 'YYYY',\n",
      "  'recordFileName': 'example.txt',\n",
      "  'recordID': 'XXXX',\n",
      "  'samplingFreq_Hz': 100,\n",
      "  'sessionID': 'MSOL',\n",
      "  'startTime': '2018-01-10T06:14:00Z'}]\n"
     ]
    }
   ],
   "source": [
    "for x in query_event_field('events', 'crisisType', 'FWIA', 'record'):\n",
    "    pprint([y for y in x])"
   ]
  },
  {
   "cell_type": "code",
   "execution_count": 13,
   "metadata": {},
   "outputs": [],
   "source": [
    "levels = ['patients', 'sessions', 'records', 'events']\n",
    "def go_up_level(record: dict, start_level: str) -> dict:\n",
    "    above_level = levels[levels.index(start_level)-1]\n",
    "    above_level_key = above_level[:-1]+'ID'\n",
    "    above_level_ID = record[above_level_key]\n",
    "    above_level_record = db[above_level].find({above_level_key:above_level_ID})[0]\n",
    "    return above_level_record"
   ]
  },
  {
   "cell_type": "code",
   "execution_count": 14,
   "metadata": {},
   "outputs": [],
   "source": [
    "def go_up_to_level(record: dict, from_level: str, to_level: str) -> dict:\n",
    "    from_level_ind = levels.index(from_level)\n",
    "    to_level_ind = levels.index(to_level)\n",
    "    for i in range(from_level_ind, to_level_ind, -1):\n",
    "        record = go_up_level(record, levels[i])\n",
    "    return record"
   ]
  },
  {
   "cell_type": "code",
   "execution_count": 37,
   "metadata": {},
   "outputs": [],
   "source": [
    "def go_down_level(record: dict, start_level: str) -> list[dict]:\n",
    "    below_level_index = levels.index(start_level)+1\n",
    "    if below_level_index >= len(levels):\n",
    "        print('No level below')\n",
    "        return\n",
    "    below_level = levels[below_level_index]\n",
    "    \n",
    "    below_level_key = below_level\n",
    "    below_level_IDs = record[below_level_key]\n",
    "    print(below_level_IDs)\n",
    "    print(below_level_key)\n",
    "    key_in_below_level = below_level[:-1]+'ID'\n",
    "    below_level_records = [db[below_level].find({key_in_below_level:below_level_ID})[0] for below_level_ID in below_level_IDs]\n",
    "    return below_level_records"
   ]
  },
  {
   "cell_type": "code",
   "execution_count": 35,
   "metadata": {},
   "outputs": [],
   "source": [
    "def go_down_to_level(record: dict, from_level: str, to_level: str) -> list[dict]:\n",
    "    below_key = levels[levels.index(from_level)+1]\n",
    "    from_level_ind = levels.index(from_level)\n",
    "    to_level_ind = levels.index(to_level)\n",
    "    records = record[below_key]\n",
    "    for i in range(from_level_ind, to_level_ind):\n",
    "        records_lists = [go_down_level(record, levels[i]) for record in records]\n",
    "        records = sum(records_lists, [])\n",
    "    return records\n",
    "\n"
   ]
  },
  {
   "cell_type": "code",
   "execution_count": 39,
   "metadata": {},
   "outputs": [
    {
     "name": "stdout",
     "output_type": "stream",
     "text": [
      "['XXXX']\n",
      "records\n"
     ]
    },
    {
     "data": {
      "text/plain": [
       "[{'_id': ObjectId('666bf78539b9736541209522'),\n",
       "  'recordID': 'XXXX',\n",
       "  'samplingFreq_Hz': 100,\n",
       "  'startTime': '2018-01-10T06:14:00Z',\n",
       "  'duration_s': 2000,\n",
       "  'recordFileName': 'example.txt',\n",
       "  'sessionID': 'MSOL',\n",
       "  'events': 'YYYY'}]"
      ]
     },
     "execution_count": 39,
     "metadata": {},
     "output_type": "execute_result"
    }
   ],
   "source": [
    "record = db['sessions'].find({'patientID': 'MSOL'})[0]\n",
    "go_down_level(record, 'sessions')"
   ]
  },
  {
   "cell_type": "code",
   "execution_count": 28,
   "metadata": {},
   "outputs": [
    {
     "data": {
      "text/plain": [
       "{'_id': ObjectId('666bf75839b9736541209519'),\n",
       " 'age': '+18',\n",
       " 'gender': 'f',\n",
       " 'diagnosis': {'type': 'refractory', 'other': 'mesial sclerosis'},\n",
       " 'aura': False,\n",
       " 'commorbidities': ['hipertension',\n",
       "  'depression',\n",
       "  'dermatitis',\n",
       "  'consanguinity'],\n",
       " 'sessions': ['MSOL'],\n",
       " 'patientID': 'MSOL'}"
      ]
     },
     "execution_count": 28,
     "metadata": {},
     "output_type": "execute_result"
    }
   ],
   "source": [
    "record = db['records'].find({'recordID':'XXXX'})[0]\n",
    "go_up_to_level(record, 'records', 'patients')"
   ]
  },
  {
   "cell_type": "code",
   "execution_count": null,
   "metadata": {},
   "outputs": [],
   "source": [
    "# query: number of crisis\n",
    "\n",
    "def get_crisis_number(query_operator: str, no: int):\n",
    "    # won't sum number of crises over multiple sessions of the same patient\n",
    "    return get_items_numerical('sessions', 'patients', 'no_clinical_seizures', query_operator, no)\n",
    "    "
   ]
  },
  {
   "cell_type": "code",
   "execution_count": null,
   "metadata": {},
   "outputs": [
    {
     "ename": "TypeError",
     "evalue": "get_items_numerical() missing 3 required positional arguments: 'field', 'query_operator', and 'no'",
     "output_type": "error",
     "traceback": [
      "\u001b[0;31m---------------------------------------------------------------------------\u001b[0m",
      "\u001b[0;31mTypeError\u001b[0m                                 Traceback (most recent call last)",
      "Cell \u001b[0;32mIn[17], line 1\u001b[0m\n\u001b[0;32m----> 1\u001b[0m \u001b[43mget_session_duration\u001b[49m\u001b[43m(\u001b[49m\u001b[38;5;124;43m'\u001b[39;49m\u001b[38;5;124;43m$gt\u001b[39;49m\u001b[38;5;124;43m'\u001b[39;49m\u001b[43m,\u001b[49m\u001b[43m \u001b[49m\u001b[38;5;241;43m1\u001b[39;49m\u001b[43m)\u001b[49m\n",
      "Cell \u001b[0;32mIn[16], line 2\u001b[0m, in \u001b[0;36mget_session_duration\u001b[0;34m(query_operator, no)\u001b[0m\n\u001b[1;32m      1\u001b[0m \u001b[38;5;28;01mdef\u001b[39;00m \u001b[38;5;21mget_session_duration\u001b[39m(query_operator: \u001b[38;5;28mstr\u001b[39m, no: \u001b[38;5;28mint\u001b[39m):\n\u001b[0;32m----> 2\u001b[0m     \u001b[38;5;28;01mreturn\u001b[39;00m \u001b[43mget_items_numerical\u001b[49m\u001b[43m(\u001b[49m\u001b[38;5;124;43m'\u001b[39;49m\u001b[38;5;124;43msessions\u001b[39;49m\u001b[38;5;124;43m'\u001b[39;49m\u001b[43m,\u001b[49m\u001b[43m \u001b[49m\u001b[38;5;124;43m'\u001b[39;49m\u001b[38;5;124;43mpatients\u001b[39;49m\u001b[38;5;124;43m'\u001b[39;49m\u001b[43m)\u001b[49m\n",
      "\u001b[0;31mTypeError\u001b[0m: get_items_numerical() missing 3 required positional arguments: 'field', 'query_operator', and 'no'"
     ]
    }
   ],
   "source": [
    "get_session_duration('$gt', 1)"
   ]
  },
  {
   "cell_type": "code",
   "execution_count": null,
   "metadata": {},
   "outputs": [],
   "source": [
    "def get_session_duration(query_operator: str, no: int):\n",
    "    return get_items_numerical('sessions', 'patients')"
   ]
  },
  {
   "cell_type": "code",
   "execution_count": 40,
   "metadata": {},
   "outputs": [],
   "source": [
    "def get_items_numerical(source_lvl: str, return_lvl: str, field: str, query_operator: str, no: int):\n",
    "    '''Returns list of patients (dict) matching given query of crisis number\n",
    "    query_operator options: \n",
    "    - \"$lt\"\n",
    "    - \"$lte\"\n",
    "    - \"$gt\"\n",
    "    - \"$gte\"\n",
    "    - \"$eq\"\n",
    "    - ...\n",
    "    '''\n",
    "    source_match = db[source_lvl].find({field: {query_operator: no}})\n",
    "    return_match = [go_up_to_level(item, source_lvl, return_lvl) for item in source_match]\n",
    "    return return_match"
   ]
  },
  {
   "cell_type": "code",
   "execution_count": null,
   "metadata": {},
   "outputs": [],
   "source": []
  }
 ],
 "metadata": {
  "kernelspec": {
   "display_name": "Python 3",
   "language": "python",
   "name": "python3"
  },
  "language_info": {
   "codemirror_mode": {
    "name": "ipython",
    "version": 3
   },
   "file_extension": ".py",
   "mimetype": "text/x-python",
   "name": "python",
   "nbconvert_exporter": "python",
   "pygments_lexer": "ipython3",
   "version": "3.10.0"
  }
 },
 "nbformat": 4,
 "nbformat_minor": 2
}
